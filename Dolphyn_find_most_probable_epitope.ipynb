{
 "cells": [
  {
   "cell_type": "code",
   "execution_count": 1,
   "id": "4c5249fe-f974-46f8-9541-066e5bab004f",
   "metadata": {},
   "outputs": [],
   "source": [
    "import os, sys\n",
    "sys.path.insert(0, os.path.abspath('dolphyn'))\n",
    "import dolphyn as D\n",
    "import pandas as pd"
   ]
  },
  {
   "cell_type": "code",
   "execution_count": 2,
   "id": "886fe131",
   "metadata": {},
   "outputs": [],
   "source": [
    "protein_seq_file = \"./data/PhageScan_pilot_proteinClusterReps.faa\" #your protein collection input, our example\n",
    "\n",
    "prot_file = \"dolphyn_peptides.faa\"\n",
    "dna_file_noadap = \"dolphyn_oligos_noadap.fasta\"\n",
    "dna_file = \"dolphyn_oligos.fasta\"\n",
    "\n",
    "five_prime_adapter = \"AGGAATTCCGCTGCGT\"\n",
    "three_prime_adapter = \"ATGGTCACAGCTGTGC\""
   ]
  },
  {
   "cell_type": "code",
   "execution_count": 3,
   "id": "0b34d915-f29a-483d-827a-0797bef89659",
   "metadata": {},
   "outputs": [
    {
     "name": "stdout",
     "output_type": "stream",
     "text": [
      "Total Number of lines: 6708\n"
     ]
    }
   ],
   "source": [
    "with open(protein_seq_file, 'r') as fp:\n",
    "    lines = len(fp.readlines())\n",
    "    print('Total Number of lines:', lines)"
   ]
  },
  {
   "cell_type": "code",
   "execution_count": 4,
   "id": "3bacc287-6abe-4b56-9df5-97813b6a3e29",
   "metadata": {},
   "outputs": [],
   "source": [
    "def findMostProbableEpitopes(protein_seq_file, epitile_size, testrun = 0, epitope_probability_cutoff = 0.5, training_size=0):\n",
    "    count = 0\n",
    "    global_epitopes = {}   \n",
    "    if training_size==0:\n",
    "        training_size=epitile_size\n",
    "    ep, _ = D.initEpiPredictor(training_size)\n",
    "    \n",
    "    with open(protein_seq_file, \"r\") as org:\n",
    "        for line in org.readlines():\n",
    "            line = line.strip()\n",
    "            if testrun!= 0 and count/2 > testrun:\n",
    "                break\n",
    "            count = count + 1\n",
    "\n",
    "            if (count/2)%500 == 0:\n",
    "                print(str(count/2), \"sequences done\")\n",
    "\n",
    "            if line.startswith(\">\"):\n",
    "                protein = line[1:]\n",
    "                print(protein)\n",
    "            else:\n",
    "                pseq = line\n",
    "                protein_length = len(pseq)\n",
    "                epitope_proba_atpos = {}\n",
    "\n",
    "                prot_15mer_feat = D.kmer_features_of_protein(pseq,epitile_size)\n",
    "                probas = [class_proba[1] for class_proba in ep.predict_proba(prot_15mer_feat)]\n",
    "\n",
    "                for startpos in range(len(pseq)-epitile_size):\n",
    "                    #epitope_proba_atpos[startpos] = np.min(probas[startpos:startpos+3])\n",
    "                    #print(startpos,probas[startpos])\n",
    "                    epitope_proba_atpos[startpos] = probas[startpos]\n",
    "\n",
    "                max_value = max(probas)\n",
    "                max_index = probas.index(max_value)\n",
    "                print(max_index,max_value)\n",
    "                print(pseq[max_index:max_index+epitile_size])\n",
    "\n",
    "#                while len(epitope_proba_atpos)>0:\n",
    "#                    max_epi_proba_pos = max(epitope_proba_atpos, key=epitope_proba_atpos.get) \n",
    "#                    min_epi_proba = epitope_proba_atpos[max_epi_proba_pos]\n",
    "#                    offset = np.argmax(probas[max_epi_proba_pos:max_epi_proba_pos+3])\n",
    "#                    max_epi_proba_pos+=offset\n",
    "#                    epi_proba = probas[max_epi_proba_pos]\n",
    "#                    epi_seq = pseq[max_epi_proba_pos:max_epi_proba_pos+epitile_size]\n",
    "#                    if min_epi_proba < epitope_probability_cutoff :\n",
    "#                        break\n",
    "#                    else:\n",
    "#                        if epi_seq not in global_epitopes:\n",
    "#                            global_epitopes[epi_seq] = {\"probability\":epi_proba,\"proteins\":[],\"start_pos\":[]}   \n",
    "#                        global_epitopes[epi_seq][\"proteins\"].append(protein)                    \n",
    "#                        global_epitopes[epi_seq][\"start_pos\"].append(max_epi_proba_pos)                   \n",
    "#\n",
    "#                        for pos in range(max_epi_proba_pos-epitile_size, max_epi_proba_pos+epitile_size):\n",
    "#                            if pos in epitope_proba_atpos:\n",
    "#                                del epitope_proba_atpos[pos]\n",
    "#    return(global_epitopes)"
   ]
  },
  {
   "cell_type": "code",
   "execution_count": 5,
   "id": "40189f70",
   "metadata": {
    "tags": []
   },
   "outputs": [
    {
     "name": "stdout",
     "output_type": "stream",
     "text": [
      "REP_uvig_160801_16_ALL_uvig_80910_1_uvig_80910_13_uvig_160801_16_uvig_213404_1_uvig_213404_13_uvig_225655_4_uvig_225655_17_uvig_359760_4_uvig_359760_18_uvig_379702_1_uvig_379702_13_uvig_512665_1_uvig_578696_11_uvig_578696_25\n",
      "89 0.76\n",
      "EAWRIFGS\n",
      "REP_uvig_80910_2_ALL_uvig_80910_2_uvig_80910_14_uvig_160801_15_uvig_213404_2_uvig_213404_14_uvig_225655_5_uvig_225655_18_uvig_359760_5_uvig_359760_19_uvig_379702_2_uvig_379702_14_uvig_512665_2_uvig_578696_10_uvig_578696_24\n",
      "57 0.67\n",
      "LSDGFWYF\n",
      "REP_uvig_80910_3_ALL_uvig_80910_3_uvig_80910_15_uvig_160801_14_uvig_213404_3_uvig_213404_15_uvig_225655_6_uvig_225655_19_uvig_359760_6_uvig_359760_20_uvig_379702_3_uvig_379702_15_uvig_512665_3_uvig_512665_9_uvig_578696_9_uvig_578696_23\n",
      "315 0.74\n",
      "AGKQYQYH\n",
      "REP_uvig_80910_4_ALL_uvig_80910_4_uvig_80910_16_uvig_160801_8_uvig_160801_13_uvig_213404_4_uvig_213404_16_uvig_225655_7_uvig_225655_20_uvig_359760_7_uvig_359760_21_uvig_379702_4_uvig_379702_16_uvig_512665_4_uvig_512665_10_uvig_578696_8_uvig_578696_22\n",
      "68 0.67\n",
      "WVLRTVKS\n",
      "REP_uvig_80910_5_ALL_uvig_80910_5_uvig_80910_17_uvig_160801_7_uvig_160801_12_uvig_213404_5_uvig_213404_17_uvig_225655_8_uvig_225655_21_uvig_359760_8_uvig_359760_22_uvig_379702_5_uvig_379702_17_uvig_512665_5_uvig_512665_11_uvig_578696_7_uvig_578696_21\n",
      "53 0.66\n",
      "NYWTLGFG\n",
      "REP_uvig_80910_6_ALL_uvig_80910_6_uvig_80910_18_uvig_160801_6_uvig_160801_11_uvig_213404_6_uvig_213404_18_uvig_225655_9_uvig_225655_22_uvig_359760_9_uvig_359760_23_uvig_379702_6_uvig_379702_18_uvig_512665_6_uvig_512665_12_uvig_578696_6_uvig_578696_20\n",
      "2s elapsed\n"
     ]
    }
   ],
   "source": [
    "# TAKES TIME\n",
    "# find the epitopes\n",
    "\n",
    "import time\n",
    "\n",
    "start_time = time.time()\n",
    "# set testrun = 0 to run all! Default is 2\n",
    "#ge = D.findEpitopes(testrun = 5, protein_seq_file = protein_seq_file, epitile_size=15, epitope_probability_cutoff = 0.5)\n",
    "findMostProbableEpitopes(testrun = 5, protein_seq_file = protein_seq_file, epitile_size=8,\n",
    "                              epitope_probability_cutoff = 0.5, training_size=15)\n",
    "\n",
    "end_time = time.time()\n",
    "\n",
    "print(str(int(end_time-start_time)) + \"s elapsed\")"
   ]
  },
  {
   "cell_type": "code",
   "execution_count": 6,
   "id": "c6f6d2c5-cb63-4d96-be07-d0a3a27d379b",
   "metadata": {},
   "outputs": [],
   "source": [
    "ep, _ = D.initEpiPredictor(15)\n",
    "#seq='MAISAYIGIPGSGKSYEAVYNVIIPAFTSGRRVVTNIYGLQKDKITERYPDATGEIIVVDNDDVLKADFFPFKGGEGSFCQFGDLIVIDEAWRIFGSDKDMTAEKKSFIAEHRHFTHPETGISCDLVIVNQSLSNIARFLKDKIETTYRMRKLKALGLNNHYCIDVYSGHKIYKSNLVTSYRNKYNPDIFELYKSYEGNNGNEKQTDKRQSIWNSGKVRFFLVLFPLMFIGSGWLIYSFFSTFGRSDPSPDLTTTDVRDAAMFRSSAATPAPDTPSEPAEPPLSTEWRISGRMTSEGRAFVILVNGAGVLRAVPASSFNYKGMLMSGIIDGERVTLYTGKK'\n",
    "#seq='IDEAWRIFGSDK'\n",
    "seq='IDEAWRIFGS'"
   ]
  },
  {
   "cell_type": "code",
   "execution_count": 7,
   "id": "dddccc3e-70b9-45f8-9624-8cb288030245",
   "metadata": {},
   "outputs": [
    {
     "name": "stdout",
     "output_type": "stream",
     "text": [
      "   sc_hydrophobic  sc_polaruncharged  sc_poseleccharged  sc_negeleccharged  A  \\\n",
      "0               5                  0                  1                  2  1   \n",
      "1               5                  0                  1                  2  1   \n",
      "2               4                  1                  1                  2  1   \n",
      "\n",
      "   R  N  D  C  Q  E  G  H  I  L  K  M  F  P  S  T  W  Y  V  d_K  d_C  d_G  \\\n",
      "0  1  0  1  0  0  1  0  0  2  0  0  0  1  0  0  0  1  0  0    3    0    0   \n",
      "1  1  0  1  0  0  1  1  0  2  0  0  0  1  0  0  0  1  0  0    3    0    1   \n",
      "2  1  0  1  0  0  1  1  0  1  0  0  0  1  0  1  0  1  0  0    3    0    1   \n",
      "\n",
      "   d_H  d_I  d_M  d_F  d_Y  d_W  d_P  d_S  AA  AR  AN  AD  AC  AQ  AE  AG  AH  \\\n",
      "0    0    2    0    1    0    1    0    1   0   0   0   0   0   0   0   0   0   \n",
      "1    0    2    0    1    0    1    0    1   0   0   0   0   0   0   0   0   0   \n",
      "2    0    1    0    1    0    1    0    2   0   0   0   0   0   0   0   0   0   \n",
      "\n",
      "   AI  AL  AK  AM  AF  AP  AS  AT  AW  AY  AV  RA  RR  RN  RD  RC  RQ  RE  RG  \\\n",
      "0   0   0   0   0   0   0   0   0   1   0   0   0   0   0   0   0   0   0   0   \n",
      "1   0   0   0   0   0   0   0   0   1   0   0   0   0   0   0   0   0   0   0   \n",
      "2   0   0   0   0   0   0   0   0   1   0   0   0   0   0   0   0   0   0   0   \n",
      "\n",
      "   RH  RI  RL  RK  RM  RF  RP  RS  RT  RW  RY  RV  NA  NR  NN  ND  NC  NQ  NE  \\\n",
      "0   0   1   0   0   0   0   0   0   0   0   0   0   0   0   0   0   0   0   0   \n",
      "1   0   1   0   0   0   0   0   0   0   0   0   0   0   0   0   0   0   0   0   \n",
      "2   0   1   0   0   0   0   0   0   0   0   0   0   0   0   0   0   0   0   0   \n",
      "\n",
      "   NG  NH  NI  NL  NK  NM  NF  NP  NS  NT  NW  NY  NV  DA  DR  DN  DD  DC  DQ  \\\n",
      "0   0   0   0   0   0   0   0   0   0   0   0   0   0   0   0   0   0   0   0   \n",
      "1   0   0   0   0   0   0   0   0   0   0   0   0   0   0   0   0   0   0   0   \n",
      "2   0   0   0   0   0   0   0   0   0   0   0   0   0   0   0   0   0   0   0   \n",
      "\n",
      "   DE  DG  DH  DI  DL  DK  DM  DF  DP  DS  DT  DW  DY  DV  CA  CR  CN  CD  CC  \\\n",
      "0   1   0   0   0   0   0   0   0   0   0   0   0   0   0   0   0   0   0   0   \n",
      "1   1   0   0   0   0   0   0   0   0   0   0   0   0   0   0   0   0   0   0   \n",
      "2   1   0   0   0   0   0   0   0   0   0   0   0   0   0   0   0   0   0   0   \n",
      "\n",
      "   CQ  CE  CG  CH  CI  CL  CK  CM  CF  CP  CS  CT  CW  CY  CV  QA  QR  QN  QD  \\\n",
      "0   0   0   0   0   0   0   0   0   0   0   0   0   0   0   0   0   0   0   0   \n",
      "1   0   0   0   0   0   0   0   0   0   0   0   0   0   0   0   0   0   0   0   \n",
      "2   0   0   0   0   0   0   0   0   0   0   0   0   0   0   0   0   0   0   0   \n",
      "\n",
      "   QC  QQ  QE  QG  QH  QI  QL  QK  QM  QF  QP  QS  QT  QW  QY  QV  EA  ER  EN  \\\n",
      "0   0   0   0   0   0   0   0   0   0   0   0   0   0   0   0   0   1   0   0   \n",
      "1   0   0   0   0   0   0   0   0   0   0   0   0   0   0   0   0   1   0   0   \n",
      "2   0   0   0   0   0   0   0   0   0   0   0   0   0   0   0   0   1   0   0   \n",
      "\n",
      "   ED  EC  EQ  EE  EG  EH  EI  EL  EK  EM  EF  EP  ES  ET  EW  EY  EV  GA  GR  \\\n",
      "0   0   0   0   0   0   0   0   0   0   0   0   0   0   0   0   0   0   0   0   \n",
      "1   0   0   0   0   0   0   0   0   0   0   0   0   0   0   0   0   0   0   0   \n",
      "2   0   0   0   0   0   0   0   0   0   0   0   0   0   0   0   0   0   0   0   \n",
      "\n",
      "   GN  GD  GC  GQ  GE  GG  GH  GI  GL  GK  GM  GF  GP  GS  GT  GW  GY  GV  HA  \\\n",
      "0   0   0   0   0   0   0   0   0   0   0   0   0   0   0   0   0   0   0   0   \n",
      "1   0   0   0   0   0   0   0   0   0   0   0   0   0   0   0   0   0   0   0   \n",
      "2   0   0   0   0   0   0   0   0   0   0   0   0   0   1   0   0   0   0   0   \n",
      "\n",
      "   HR  HN  HD  HC  HQ  HE  HG  HH  HI  HL  HK  HM  HF  HP  HS  HT  HW  HY  HV  \\\n",
      "0   0   0   0   0   0   0   0   0   0   0   0   0   0   0   0   0   0   0   0   \n",
      "1   0   0   0   0   0   0   0   0   0   0   0   0   0   0   0   0   0   0   0   \n",
      "2   0   0   0   0   0   0   0   0   0   0   0   0   0   0   0   0   0   0   0   \n",
      "\n",
      "   IA  IR  IN  ID  IC  IQ  IE  IG  IH  II  IL  IK  IM  IF  IP  IS  IT  IW  IY  \\\n",
      "0   0   0   0   1   0   0   0   0   0   0   0   0   0   1   0   0   0   0   0   \n",
      "1   0   0   0   1   0   0   0   0   0   0   0   0   0   1   0   0   0   0   0   \n",
      "2   0   0   0   0   0   0   0   0   0   0   0   0   0   1   0   0   0   0   0   \n",
      "\n",
      "   IV  LA  LR  LN  LD  LC  LQ  LE  LG  LH  LI  LL  LK  LM  LF  LP  LS  LT  LW  \\\n",
      "0   0   0   0   0   0   0   0   0   0   0   0   0   0   0   0   0   0   0   0   \n",
      "1   0   0   0   0   0   0   0   0   0   0   0   0   0   0   0   0   0   0   0   \n",
      "2   0   0   0   0   0   0   0   0   0   0   0   0   0   0   0   0   0   0   0   \n",
      "\n",
      "   LY  LV  KA  KR  KN  KD  KC  KQ  KE  KG  KH  KI  KL  KK  KM  KF  KP  KS  KT  \\\n",
      "0   0   0   0   0   0   0   0   0   0   0   0   0   0   0   0   0   0   0   0   \n",
      "1   0   0   0   0   0   0   0   0   0   0   0   0   0   0   0   0   0   0   0   \n",
      "2   0   0   0   0   0   0   0   0   0   0   0   0   0   0   0   0   0   0   0   \n",
      "\n",
      "   KW  KY  KV  MA  MR  MN  MD  MC  MQ  ME  MG  MH  MI  ML  MK  MM  MF  MP  MS  \\\n",
      "0   0   0   0   0   0   0   0   0   0   0   0   0   0   0   0   0   0   0   0   \n",
      "1   0   0   0   0   0   0   0   0   0   0   0   0   0   0   0   0   0   0   0   \n",
      "2   0   0   0   0   0   0   0   0   0   0   0   0   0   0   0   0   0   0   0   \n",
      "\n",
      "   MT  MW  MY  MV  FA  FR  FN  FD  FC  FQ  FE  FG  FH  FI  FL  FK  FM  FF  FP  \\\n",
      "0   0   0   0   0   0   0   0   0   0   0   0   0   0   0   0   0   0   0   0   \n",
      "1   0   0   0   0   0   0   0   0   0   0   0   1   0   0   0   0   0   0   0   \n",
      "2   0   0   0   0   0   0   0   0   0   0   0   1   0   0   0   0   0   0   0   \n",
      "\n",
      "   FS  FT  FW  FY  FV  PA  PR  PN  PD  PC  PQ  PE  PG  PH  PI  PL  PK  PM  PF  \\\n",
      "0   0   0   0   0   0   0   0   0   0   0   0   0   0   0   0   0   0   0   0   \n",
      "1   0   0   0   0   0   0   0   0   0   0   0   0   0   0   0   0   0   0   0   \n",
      "2   0   0   0   0   0   0   0   0   0   0   0   0   0   0   0   0   0   0   0   \n",
      "\n",
      "   PP  PS  PT  PW  PY  PV  SA  SR  SN  SD  SC  SQ  SE  SG  SH  SI  SL  SK  SM  \\\n",
      "0   0   0   0   0   0   0   0   0   0   0   0   0   0   0   0   0   0   0   0   \n",
      "1   0   0   0   0   0   0   0   0   0   0   0   0   0   0   0   0   0   0   0   \n",
      "2   0   0   0   0   0   0   0   0   0   0   0   0   0   0   0   0   0   0   0   \n",
      "\n",
      "   SF  SP  SS  ST  SW  SY  SV  TA  TR  TN  TD  TC  TQ  TE  TG  TH  TI  TL  TK  \\\n",
      "0   0   0   0   0   0   0   0   0   0   0   0   0   0   0   0   0   0   0   0   \n",
      "1   0   0   0   0   0   0   0   0   0   0   0   0   0   0   0   0   0   0   0   \n",
      "2   0   0   0   0   0   0   0   0   0   0   0   0   0   0   0   0   0   0   0   \n",
      "\n",
      "   TM  TF  TP  TS  TT  TW  TY  TV  WA  WR  WN  WD  WC  WQ  WE  WG  WH  WI  WL  \\\n",
      "0   0   0   0   0   0   0   0   0   0   1   0   0   0   0   0   0   0   0   0   \n",
      "1   0   0   0   0   0   0   0   0   0   1   0   0   0   0   0   0   0   0   0   \n",
      "2   0   0   0   0   0   0   0   0   0   1   0   0   0   0   0   0   0   0   0   \n",
      "\n",
      "   WK  WM  WF  WP  WS  WT  WW  WY  WV  YA  YR  YN  YD  YC  YQ  YE  YG  YH  YI  \\\n",
      "0   0   0   0   0   0   0   0   0   0   0   0   0   0   0   0   0   0   0   0   \n",
      "1   0   0   0   0   0   0   0   0   0   0   0   0   0   0   0   0   0   0   0   \n",
      "2   0   0   0   0   0   0   0   0   0   0   0   0   0   0   0   0   0   0   0   \n",
      "\n",
      "   YL  YK  YM  YF  YP  YS  YT  YW  YY  YV  VA  VR  VN  VD  VC  VQ  VE  VG  VH  \\\n",
      "0   0   0   0   0   0   0   0   0   0   0   0   0   0   0   0   0   0   0   0   \n",
      "1   0   0   0   0   0   0   0   0   0   0   0   0   0   0   0   0   0   0   0   \n",
      "2   0   0   0   0   0   0   0   0   0   0   0   0   0   0   0   0   0   0   0   \n",
      "\n",
      "   VI  VL  VK  VM  VF  VP  VS  VT  VW  VY  VV  d_KK  d_KC  d_KG  d_KH  d_KI  \\\n",
      "0   0   0   0   0   0   0   0   0   0   0   0     1     0     0     0     1   \n",
      "1   0   0   0   0   0   0   0   0   0   0   0     1     0     0     0     1   \n",
      "2   0   0   0   0   0   0   0   0   0   0   0     1     0     0     0     1   \n",
      "\n",
      "   d_KM  d_KF  d_KY  d_KW  d_KP  d_KS  d_CK  d_CC  d_CG  d_CH  d_CI  d_CM  \\\n",
      "0     0     0     0     0     0     1     0     0     0     0     0     0   \n",
      "1     0     0     0     0     0     1     0     0     0     0     0     0   \n",
      "2     0     0     0     0     0     1     0     0     0     0     0     0   \n",
      "\n",
      "   d_CF  d_CY  d_CW  d_CP  d_CS  d_GK  d_GC  d_GG  d_GH  d_GI  d_GM  d_GF  \\\n",
      "0     0     0     0     0     0     0     0     0     0     0     0     0   \n",
      "1     0     0     0     0     0     0     0     0     0     0     0     0   \n",
      "2     0     0     0     0     0     0     0     0     0     0     0     0   \n",
      "\n",
      "   d_GY  d_GW  d_GP  d_GS  d_HK  d_HC  d_HG  d_HH  d_HI  d_HM  d_HF  d_HY  \\\n",
      "0     0     0     0     0     0     0     0     0     0     0     0     0   \n",
      "1     0     0     0     0     0     0     0     0     0     0     0     0   \n",
      "2     0     0     0     1     0     0     0     0     0     0     0     0   \n",
      "\n",
      "   d_HW  d_HP  d_HS  d_IK  d_IC  d_IG  d_IH  d_II  d_IM  d_IF  d_IY  d_IW  \\\n",
      "0     0     0     0     1     0     0     0     0     0     1     0     0   \n",
      "1     0     0     0     1     0     0     0     0     0     1     0     0   \n",
      "2     0     0     0     0     0     0     0     0     0     1     0     0   \n",
      "\n",
      "   d_IP  d_IS  d_MK  d_MC  d_MG  d_MH  d_MI  d_MM  d_MF  d_MY  d_MW  d_MP  \\\n",
      "0     0     0     0     0     0     0     0     0     0     0     0     0   \n",
      "1     0     0     0     0     0     0     0     0     0     0     0     0   \n",
      "2     0     0     0     0     0     0     0     0     0     0     0     0   \n",
      "\n",
      "   d_MS  d_FK  d_FC  d_FG  d_FH  d_FI  d_FM  d_FF  d_FY  d_FW  d_FP  d_FS  \\\n",
      "0     0     0     0     0     0     0     0     0     0     0     0     0   \n",
      "1     0     0     0     1     0     0     0     0     0     0     0     0   \n",
      "2     0     0     0     1     0     0     0     0     0     0     0     0   \n",
      "\n",
      "   d_YK  d_YC  d_YG  d_YH  d_YI  d_YM  d_YF  d_YY  d_YW  d_YP  d_YS  d_WK  \\\n",
      "0     0     0     0     0     0     0     0     0     0     0     0     1   \n",
      "1     0     0     0     0     0     0     0     0     0     0     0     1   \n",
      "2     0     0     0     0     0     0     0     0     0     0     0     1   \n",
      "\n",
      "   d_WC  d_WG  d_WH  d_WI  d_WM  d_WF  d_WY  d_WW  d_WP  d_WS  d_PK  d_PC  \\\n",
      "0     0     0     0     0     0     0     0     0     0     0     0     0   \n",
      "1     0     0     0     0     0     0     0     0     0     0     0     0   \n",
      "2     0     0     0     0     0     0     0     0     0     0     0     0   \n",
      "\n",
      "   d_PG  d_PH  d_PI  d_PM  d_PF  d_PY  d_PW  d_PP  d_PS  d_SK  d_SC  d_SG  \\\n",
      "0     0     0     0     0     0     0     0     0     0     0     0     0   \n",
      "1     0     0     0     0     0     0     0     0     0     0     0     0   \n",
      "2     0     0     0     0     0     0     0     0     0     0     0     0   \n",
      "\n",
      "   d_SH  d_SI  d_SM  d_SF  d_SY  d_SW  d_SP  d_SS  \n",
      "0     0     0     0     0     0     1     0     0  \n",
      "1     0     0     0     0     0     1     0     0  \n",
      "2     0     0     0     0     0     1     0     0  \n"
     ]
    }
   ],
   "source": [
    "pd.set_option('display.max_columns', None)\n",
    "features=D.kmer_features_of_protein(seq,8)\n",
    "print(features)"
   ]
  },
  {
   "cell_type": "code",
   "execution_count": 8,
   "id": "f99406ec-2ade-4ff6-b4df-19cb6e9b0b5a",
   "metadata": {},
   "outputs": [
    {
     "name": "stdout",
     "output_type": "stream",
     "text": [
      "0    1\n",
      "1    1\n",
      "2    1\n",
      "Name: d_KK, dtype: int64\n"
     ]
    }
   ],
   "source": [
    "print(features['d_KK'])"
   ]
  },
  {
   "cell_type": "code",
   "execution_count": 9,
   "id": "19cc83e5-7751-4e50-8030-8ebc93ccb1fe",
   "metadata": {},
   "outputs": [
    {
     "name": "stdout",
     "output_type": "stream",
     "text": [
      "[np.float64(0.67), np.float64(0.67), np.float64(0.76)]\n"
     ]
    }
   ],
   "source": [
    "probas=[class_proba[1] for class_proba in ep.predict_proba(features)]\n",
    "print(probas)"
   ]
  },
  {
   "cell_type": "code",
   "execution_count": 10,
   "id": "8c8d9b72-0824-469f-b34d-cadb06abc00c",
   "metadata": {},
   "outputs": [
    {
     "name": "stdout",
     "output_type": "stream",
     "text": [
      "2 0.76\n",
      "EAWRIFGS\n"
     ]
    }
   ],
   "source": [
    "max_value = max(probas)\n",
    "max_index = probas.index(max_value)\n",
    "print(max_index,max_value)\n",
    "print(seq[max_index:max_index+8])"
   ]
  },
  {
   "cell_type": "code",
   "execution_count": 11,
   "id": "3a636e80-cdfb-4d96-96f4-219408cc0aab",
   "metadata": {},
   "outputs": [
    {
     "data": {
      "text/plain": [
       "array([[0.46, 0.54],\n",
       "       [0.48, 0.52],\n",
       "       [0.43, 0.57],\n",
       "       [0.33, 0.67],\n",
       "       [0.24, 0.76],\n",
       "       [0.35, 0.65],\n",
       "       [0.34, 0.66]])"
      ]
     },
     "execution_count": 11,
     "metadata": {},
     "output_type": "execute_result"
    }
   ],
   "source": [
    "ep.predict_proba(D.kmer_features_of_protein('IVIDEAWRIFGSDK',8))"
   ]
  },
  {
   "cell_type": "code",
   "execution_count": null,
   "id": "f0551a85-e025-4380-a2c7-c88385096e91",
   "metadata": {},
   "outputs": [],
   "source": []
  }
 ],
 "metadata": {
  "kernelspec": {
   "display_name": "Python 3 (ipykernel)",
   "language": "python",
   "name": "python3"
  },
  "language_info": {
   "codemirror_mode": {
    "name": "ipython",
    "version": 3
   },
   "file_extension": ".py",
   "mimetype": "text/x-python",
   "name": "python",
   "nbconvert_exporter": "python",
   "pygments_lexer": "ipython3",
   "version": "3.11.13"
  }
 },
 "nbformat": 4,
 "nbformat_minor": 5
}
