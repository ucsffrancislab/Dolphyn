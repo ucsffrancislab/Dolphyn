{
 "cells": [
  {
   "cell_type": "code",
   "execution_count": 1,
   "id": "4c5249fe-f974-46f8-9541-066e5bab004f",
   "metadata": {},
   "outputs": [],
   "source": [
    "import os, sys\n",
    "sys.path.insert(0, os.path.abspath('dolphyn'))\n",
    "import dolphyn as D"
   ]
  },
  {
   "cell_type": "code",
   "execution_count": 2,
   "id": "886fe131",
   "metadata": {},
   "outputs": [],
   "source": [
    "protein_seq_file = \"./data/PhageScan_pilot_proteinClusterReps.faa\" #your protein collection input, our example\n",
    "\n",
    "prot_file = \"dolphyn_peptides.faa\"\n",
    "dna_file_noadap = \"dolphyn_oligos_noadap.fasta\"\n",
    "dna_file = \"dolphyn_oligos.fasta\"\n",
    "\n",
    "five_prime_adapter = \"AGGAATTCCGCTGCGT\"\n",
    "three_prime_adapter = \"ATGGTCACAGCTGTGC\""
   ]
  },
  {
   "cell_type": "code",
   "execution_count": 3,
   "id": "0b34d915-f29a-483d-827a-0797bef89659",
   "metadata": {},
   "outputs": [
    {
     "name": "stdout",
     "output_type": "stream",
     "text": [
      "Total Number of lines: 6708\n"
     ]
    }
   ],
   "source": [
    "with open(protein_seq_file, 'r') as fp:\n",
    "    lines = len(fp.readlines())\n",
    "    print('Total Number of lines:', lines)"
   ]
  },
  {
   "cell_type": "code",
   "execution_count": 4,
   "id": "40189f70",
   "metadata": {
    "tags": []
   },
   "outputs": [
    {
     "name": "stdout",
     "output_type": "stream",
     "text": [
      "2s elapsed\n"
     ]
    }
   ],
   "source": [
    "# TAKES TIME\n",
    "# find the epitopes\n",
    "\n",
    "import time\n",
    "\n",
    "start_time = time.time()\n",
    "# set testrun = 0 to run all! Default is 2\n",
    "ge = D.findEpitopes(testrun = 5, protein_seq_file = protein_seq_file, epitile_size=15, epitope_probability_cutoff = 0.5)\n",
    "\n",
    "end_time = time.time()\n",
    "\n",
    "print(str(int(end_time-start_time)) + \"s elapsed\")"
   ]
  },
  {
   "cell_type": "code",
   "execution_count": 5,
   "id": "c6f6d2c5-cb63-4d96-be07-d0a3a27d379b",
   "metadata": {},
   "outputs": [
    {
     "data": {
      "text/plain": [
       "23"
      ]
     },
     "execution_count": 5,
     "metadata": {},
     "output_type": "execute_result"
    }
   ],
   "source": [
    "len(ge.keys())"
   ]
  },
  {
   "cell_type": "code",
   "execution_count": 6,
   "id": "b93a1d9d-0942-4e27-8464-2e575accb27e",
   "metadata": {},
   "outputs": [
    {
     "data": {
      "text/plain": [
       "{'DEAWRIFGSDKDMTA': {'probability': np.float64(0.71),\n",
       "  'proteins': ['REP_uvig_160801_16_ALL_uvig_80910_1_uvig_80910_13_uvig_160801_16_uvig_213404_1_uvig_213404_13_uvig_225655_4_uvig_225655_17_uvig_359760_4_uvig_359760_18_uvig_379702_1_uvig_379702_13_uvig_512665_1_uvig_578696_11_uvig_578696_25'],\n",
       "  'start_pos': [np.int64(88)]},\n",
       " 'KRQSIWNSGKVRFFL': {'probability': np.float64(0.78),\n",
       "  'proteins': ['REP_uvig_160801_16_ALL_uvig_80910_1_uvig_80910_13_uvig_160801_16_uvig_213404_1_uvig_213404_13_uvig_225655_4_uvig_225655_17_uvig_359760_4_uvig_359760_18_uvig_379702_1_uvig_379702_13_uvig_512665_1_uvig_578696_11_uvig_578696_25'],\n",
       "  'start_pos': [np.int64(207)]},\n",
       " 'FLKDKIETTYRMRKL': {'probability': np.float64(0.68),\n",
       "  'proteins': ['REP_uvig_160801_16_ALL_uvig_80910_1_uvig_80910_13_uvig_160801_16_uvig_213404_1_uvig_213404_13_uvig_225655_4_uvig_225655_17_uvig_359760_4_uvig_359760_18_uvig_379702_1_uvig_379702_13_uvig_512665_1_uvig_578696_11_uvig_578696_25'],\n",
       "  'start_pos': [np.int64(138)]},\n",
       " 'MFIGSGWLIYSFFST': {'probability': np.float64(0.64),\n",
       "  'proteins': ['REP_uvig_160801_16_ALL_uvig_80910_1_uvig_80910_13_uvig_160801_16_uvig_213404_1_uvig_213404_13_uvig_225655_4_uvig_225655_17_uvig_359760_4_uvig_359760_18_uvig_379702_1_uvig_379702_13_uvig_512665_1_uvig_578696_11_uvig_578696_25'],\n",
       "  'start_pos': [np.int64(227)]},\n",
       " 'GRRVVTNIYGLQKDK': {'probability': np.float64(0.66),\n",
       "  'proteins': ['REP_uvig_160801_16_ALL_uvig_80910_1_uvig_80910_13_uvig_160801_16_uvig_213404_1_uvig_213404_13_uvig_225655_4_uvig_225655_17_uvig_359760_4_uvig_359760_18_uvig_379702_1_uvig_379702_13_uvig_512665_1_uvig_578696_11_uvig_578696_25'],\n",
       "  'start_pos': [np.int64(29)]},\n",
       " 'FFPFKGGEGSFCQFG': {'probability': np.float64(0.56),\n",
       "  'proteins': ['REP_uvig_160801_16_ALL_uvig_80910_1_uvig_80910_13_uvig_160801_16_uvig_213404_1_uvig_213404_13_uvig_225655_4_uvig_225655_17_uvig_359760_4_uvig_359760_18_uvig_379702_1_uvig_379702_13_uvig_512665_1_uvig_578696_11_uvig_578696_25'],\n",
       "  'start_pos': [np.int64(68)]},\n",
       " 'KKSFIAEHRHFTHPE': {'probability': np.float64(0.62),\n",
       "  'proteins': ['REP_uvig_160801_16_ALL_uvig_80910_1_uvig_80910_13_uvig_160801_16_uvig_213404_1_uvig_213404_13_uvig_225655_4_uvig_225655_17_uvig_359760_4_uvig_359760_18_uvig_379702_1_uvig_379702_13_uvig_512665_1_uvig_578696_11_uvig_578696_25'],\n",
       "  'start_pos': [np.int64(104)]},\n",
       " 'RNKYNPDIFELYKSY': {'probability': np.float64(0.59),\n",
       "  'proteins': ['REP_uvig_160801_16_ALL_uvig_80910_1_uvig_80910_13_uvig_160801_16_uvig_213404_1_uvig_213404_13_uvig_225655_4_uvig_225655_17_uvig_359760_4_uvig_359760_18_uvig_379702_1_uvig_379702_13_uvig_512665_1_uvig_578696_11_uvig_578696_25'],\n",
       "  'start_pos': [np.int64(181)]},\n",
       " 'AEPPLSTEWRISGRM': {'probability': np.float64(0.58),\n",
       "  'proteins': ['REP_uvig_160801_16_ALL_uvig_80910_1_uvig_80910_13_uvig_160801_16_uvig_213404_1_uvig_213404_13_uvig_225655_4_uvig_225655_17_uvig_359760_4_uvig_359760_18_uvig_379702_1_uvig_379702_13_uvig_512665_1_uvig_578696_11_uvig_578696_25'],\n",
       "  'start_pos': [np.int64(278)]},\n",
       " 'PDATGEIIVVDNDDV': {'probability': np.float64(0.53),\n",
       "  'proteins': ['REP_uvig_160801_16_ALL_uvig_80910_1_uvig_80910_13_uvig_160801_16_uvig_213404_1_uvig_213404_13_uvig_225655_4_uvig_225655_17_uvig_359760_4_uvig_359760_18_uvig_379702_1_uvig_379702_13_uvig_512665_1_uvig_578696_11_uvig_578696_25'],\n",
       "  'start_pos': [np.int64(49)]},\n",
       " 'FANLSDGFWYFINLS': {'probability': np.float64(0.58),\n",
       "  'proteins': ['REP_uvig_80910_2_ALL_uvig_80910_2_uvig_80910_14_uvig_160801_15_uvig_213404_2_uvig_213404_14_uvig_225655_5_uvig_225655_18_uvig_359760_5_uvig_359760_19_uvig_379702_2_uvig_379702_14_uvig_512665_2_uvig_578696_10_uvig_578696_24'],\n",
       "  'start_pos': [np.int64(54)]},\n",
       " 'QLTATRVFVGRAAAN': {'probability': np.float64(0.62),\n",
       "  'proteins': ['REP_uvig_80910_3_ALL_uvig_80910_3_uvig_80910_15_uvig_160801_14_uvig_213404_3_uvig_213404_15_uvig_225655_6_uvig_225655_19_uvig_359760_6_uvig_359760_20_uvig_379702_3_uvig_379702_15_uvig_512665_3_uvig_512665_9_uvig_578696_9_uvig_578696_23'],\n",
       "  'start_pos': [np.int64(79)]},\n",
       " 'LWVSFPRYSYSFVPA': {'probability': np.float64(0.62),\n",
       "  'proteins': ['REP_uvig_80910_3_ALL_uvig_80910_3_uvig_80910_15_uvig_160801_14_uvig_213404_3_uvig_213404_15_uvig_225655_6_uvig_225655_19_uvig_359760_6_uvig_359760_20_uvig_379702_3_uvig_379702_15_uvig_512665_3_uvig_512665_9_uvig_578696_9_uvig_578696_23'],\n",
       "  'start_pos': [np.int64(32)]},\n",
       " 'MINELWSEAAVNADY': {'probability': np.float64(0.63),\n",
       "  'proteins': ['REP_uvig_80910_3_ALL_uvig_80910_3_uvig_80910_15_uvig_160801_14_uvig_213404_3_uvig_213404_15_uvig_225655_6_uvig_225655_19_uvig_359760_6_uvig_359760_20_uvig_379702_3_uvig_379702_15_uvig_512665_3_uvig_512665_9_uvig_578696_9_uvig_578696_23'],\n",
       "  'start_pos': [np.int64(402)]},\n",
       " 'SVAYLTAGKQYQYHN': {'probability': np.float64(0.61),\n",
       "  'proteins': ['REP_uvig_80910_3_ALL_uvig_80910_3_uvig_80910_15_uvig_160801_14_uvig_213404_3_uvig_213404_15_uvig_225655_6_uvig_225655_19_uvig_359760_6_uvig_359760_20_uvig_379702_3_uvig_379702_15_uvig_512665_3_uvig_512665_9_uvig_578696_9_uvig_578696_23'],\n",
       "  'start_pos': [np.int64(309)]},\n",
       " 'NALYYYQDSKELIYY': {'probability': np.float64(0.6),\n",
       "  'proteins': ['REP_uvig_80910_3_ALL_uvig_80910_3_uvig_80910_15_uvig_160801_14_uvig_213404_3_uvig_213404_15_uvig_225655_6_uvig_225655_19_uvig_359760_6_uvig_359760_20_uvig_379702_3_uvig_379702_15_uvig_512665_3_uvig_512665_9_uvig_578696_9_uvig_578696_23'],\n",
       "  'start_pos': [np.int64(201)]},\n",
       " 'IAAAVSSFVPSSLSS': {'probability': np.float64(0.58),\n",
       "  'proteins': ['REP_uvig_80910_3_ALL_uvig_80910_3_uvig_80910_15_uvig_160801_14_uvig_213404_3_uvig_213404_15_uvig_225655_6_uvig_225655_19_uvig_359760_6_uvig_359760_20_uvig_379702_3_uvig_379702_15_uvig_512665_3_uvig_512665_9_uvig_578696_9_uvig_578696_23'],\n",
       "  'start_pos': [np.int64(115)]},\n",
       " 'NYKFTYPSSFYEIPE': {'probability': np.float64(0.59),\n",
       "  'proteins': ['REP_uvig_80910_3_ALL_uvig_80910_3_uvig_80910_15_uvig_160801_14_uvig_213404_3_uvig_213404_15_uvig_225655_6_uvig_225655_19_uvig_359760_6_uvig_359760_20_uvig_379702_3_uvig_379702_15_uvig_512665_3_uvig_512665_9_uvig_578696_9_uvig_578696_23'],\n",
       "  'start_pos': [np.int64(264)]},\n",
       " 'GDNPTEIARNYLNDY': {'probability': np.float64(0.57),\n",
       "  'proteins': ['REP_uvig_80910_3_ALL_uvig_80910_3_uvig_80910_15_uvig_160801_14_uvig_213404_3_uvig_213404_15_uvig_225655_6_uvig_225655_19_uvig_359760_6_uvig_359760_20_uvig_379702_3_uvig_379702_15_uvig_512665_3_uvig_512665_9_uvig_578696_9_uvig_578696_23'],\n",
       "  'start_pos': [np.int64(217)]},\n",
       " 'YSWAKRLTVYSFIFS': {'probability': np.float64(0.57),\n",
       "  'proteins': ['REP_uvig_80910_3_ALL_uvig_80910_3_uvig_80910_15_uvig_160801_14_uvig_213404_3_uvig_213404_15_uvig_225655_6_uvig_225655_19_uvig_359760_6_uvig_359760_20_uvig_379702_3_uvig_379702_15_uvig_512665_3_uvig_512665_9_uvig_578696_9_uvig_578696_23'],\n",
       "  'start_pos': [np.int64(16)]},\n",
       " 'VMVMTNGKKISDNLY': {'probability': np.float64(0.51),\n",
       "  'proteins': ['REP_uvig_80910_3_ALL_uvig_80910_3_uvig_80910_15_uvig_160801_14_uvig_213404_3_uvig_213404_15_uvig_225655_6_uvig_225655_19_uvig_359760_6_uvig_359760_20_uvig_379702_3_uvig_379702_15_uvig_512665_3_uvig_512665_9_uvig_578696_9_uvig_578696_23'],\n",
       "  'start_pos': [np.int64(134)]},\n",
       " 'FLAVPALMAVSGATF': {'probability': np.float64(0.57),\n",
       "  'proteins': ['REP_uvig_80910_4_ALL_uvig_80910_4_uvig_80910_16_uvig_160801_8_uvig_160801_13_uvig_213404_4_uvig_213404_16_uvig_225655_7_uvig_225655_20_uvig_359760_7_uvig_359760_21_uvig_379702_4_uvig_379702_16_uvig_512665_4_uvig_512665_10_uvig_578696_8_uvig_578696_22'],\n",
       "  'start_pos': [np.int64(7)]},\n",
       " 'PFHQIDYSAMGNYWT': {'probability': np.float64(0.65),\n",
       "  'proteins': ['REP_uvig_80910_5_ALL_uvig_80910_5_uvig_80910_17_uvig_160801_7_uvig_160801_12_uvig_213404_5_uvig_213404_17_uvig_225655_8_uvig_225655_21_uvig_359760_8_uvig_359760_22_uvig_379702_5_uvig_379702_17_uvig_512665_5_uvig_512665_11_uvig_578696_7_uvig_578696_21'],\n",
       "  'start_pos': [np.int64(42)]}}"
      ]
     },
     "execution_count": 6,
     "metadata": {},
     "output_type": "execute_result"
    }
   ],
   "source": [
    "ge"
   ]
  },
  {
   "cell_type": "code",
   "execution_count": 7,
   "id": "b8b7fe94-d28f-4332-a8f4-2606c7e4f37e",
   "metadata": {},
   "outputs": [],
   "source": [
    "# if you want to store the predicted epitopes:\n",
    "\n",
    "#D.saveGlobalEpitopes(ge, \"epi_probas.json\")\n",
    "#ge = D.readGlobalEpitopes(\"epi_probas.json\")"
   ]
  },
  {
   "cell_type": "code",
   "execution_count": 8,
   "id": "9affd0f2",
   "metadata": {},
   "outputs": [
    {
     "name": "stdout",
     "output_type": "stream",
     "text": [
      "total number of dolphyn tiles =  6\n",
      "number of unused epitopes: 5\n"
     ]
    }
   ],
   "source": [
    "dolphynTiles, _ = D.peptideStitching(no_epis_per_tile = 3, linker_seq = \"GGGGS\" , global_epitopes = ge, return_unused_epis = False)\n",
    "protein_hash = D.writeDolphynPeptidesToFAA(dolphynTiles, prot_file, hash_protein_names = True)"
   ]
  },
  {
   "cell_type": "code",
   "execution_count": 9,
   "id": "9e742a0d-b0fd-408f-8bbc-a28e12b87cbd",
   "metadata": {},
   "outputs": [
    {
     "data": {
      "text/plain": [
       "{'KRQSIWNSGKVRFFLGGGGSGRRVVTNIYGLQKDKGGGGSRNKYNPDIFELYKSY': {'protein set': ['REP_uvig_160801_16_ALL_uvig_80910_1_uvig_80910_13_uvig_160801_16_uvig_213404_1_uvig_213404_13_uvig_225655_4_uvig_225655_17_uvig_359760_4_uvig_359760_18_uvig_379702_1_uvig_379702_13_uvig_512665_1_uvig_578696_11_uvig_578696_25'],\n",
       "  'tile number': 1,\n",
       "  'tiles in protein(set)': 3,\n",
       "  'probabilities': [np.float64(0.78), np.float64(0.66), np.float64(0.59)]},\n",
       " 'DEAWRIFGSDKDMTAGGGGSMFIGSGWLIYSFFSTGGGGSAEPPLSTEWRISGRM': {'protein set': ['REP_uvig_160801_16_ALL_uvig_80910_1_uvig_80910_13_uvig_160801_16_uvig_213404_1_uvig_213404_13_uvig_225655_4_uvig_225655_17_uvig_359760_4_uvig_359760_18_uvig_379702_1_uvig_379702_13_uvig_512665_1_uvig_578696_11_uvig_578696_25'],\n",
       "  'tile number': 2,\n",
       "  'tiles in protein(set)': 3,\n",
       "  'probabilities': [np.float64(0.71), np.float64(0.64), np.float64(0.58)]},\n",
       " 'FLKDKIETTYRMRKLGGGGSKKSFIAEHRHFTHPEGGGGSFFPFKGGEGSFCQFG': {'protein set': ['REP_uvig_160801_16_ALL_uvig_80910_1_uvig_80910_13_uvig_160801_16_uvig_213404_1_uvig_213404_13_uvig_225655_4_uvig_225655_17_uvig_359760_4_uvig_359760_18_uvig_379702_1_uvig_379702_13_uvig_512665_1_uvig_578696_11_uvig_578696_25'],\n",
       "  'tile number': 3,\n",
       "  'tiles in protein(set)': 3,\n",
       "  'probabilities': [np.float64(0.68), np.float64(0.62), np.float64(0.56)]},\n",
       " 'MINELWSEAAVNADYGGGGSSVAYLTAGKQYQYHNGGGGSIAAAVSSFVPSSLSS': {'protein set': ['REP_uvig_80910_3_ALL_uvig_80910_3_uvig_80910_15_uvig_160801_14_uvig_213404_3_uvig_213404_15_uvig_225655_6_uvig_225655_19_uvig_359760_6_uvig_359760_20_uvig_379702_3_uvig_379702_15_uvig_512665_3_uvig_512665_9_uvig_578696_9_uvig_578696_23'],\n",
       "  'tile number': 1,\n",
       "  'tiles in protein(set)': 3,\n",
       "  'probabilities': [np.float64(0.63), np.float64(0.61), np.float64(0.58)]},\n",
       " 'QLTATRVFVGRAAANGGGGSNALYYYQDSKELIYYGGGGSGDNPTEIARNYLNDY': {'protein set': ['REP_uvig_80910_3_ALL_uvig_80910_3_uvig_80910_15_uvig_160801_14_uvig_213404_3_uvig_213404_15_uvig_225655_6_uvig_225655_19_uvig_359760_6_uvig_359760_20_uvig_379702_3_uvig_379702_15_uvig_512665_3_uvig_512665_9_uvig_578696_9_uvig_578696_23'],\n",
       "  'tile number': 2,\n",
       "  'tiles in protein(set)': 3,\n",
       "  'probabilities': [np.float64(0.62), np.float64(0.6), np.float64(0.57)]},\n",
       " 'LWVSFPRYSYSFVPAGGGGSNYKFTYPSSFYEIPEGGGGSYSWAKRLTVYSFIFS': {'protein set': ['REP_uvig_80910_3_ALL_uvig_80910_3_uvig_80910_15_uvig_160801_14_uvig_213404_3_uvig_213404_15_uvig_225655_6_uvig_225655_19_uvig_359760_6_uvig_359760_20_uvig_379702_3_uvig_379702_15_uvig_512665_3_uvig_512665_9_uvig_578696_9_uvig_578696_23'],\n",
       "  'tile number': 3,\n",
       "  'tiles in protein(set)': 3,\n",
       "  'probabilities': [np.float64(0.62), np.float64(0.59), np.float64(0.57)]}}"
      ]
     },
     "execution_count": 9,
     "metadata": {},
     "output_type": "execute_result"
    }
   ],
   "source": [
    "dolphynTiles"
   ]
  },
  {
   "cell_type": "code",
   "execution_count": 10,
   "id": "05202036-33ff-4b55-85a9-3af9f21a44f5",
   "metadata": {},
   "outputs": [
    {
     "data": {
      "text/plain": [
       "{'dolphyn_2449602468230169308': \"dolphyn_['REP_uvig_160801_16_ALL_uvig_80910_1_uvig_80910_13_uvig_160801_16_uvig_213404_1_uvig_213404_13_uvig_225655_4_uvig_225655_17_uvig_359760_4_uvig_359760_18_uvig_379702_1_uvig_379702_13_uvig_512665_1_uvig_578696_11_uvig_578696_25']_1of3\",\n",
       " 'dolphyn_4804385041401908913': \"dolphyn_['REP_uvig_160801_16_ALL_uvig_80910_1_uvig_80910_13_uvig_160801_16_uvig_213404_1_uvig_213404_13_uvig_225655_4_uvig_225655_17_uvig_359760_4_uvig_359760_18_uvig_379702_1_uvig_379702_13_uvig_512665_1_uvig_578696_11_uvig_578696_25']_2of3\",\n",
       " 'dolphyn_624311514299753401': \"dolphyn_['REP_uvig_160801_16_ALL_uvig_80910_1_uvig_80910_13_uvig_160801_16_uvig_213404_1_uvig_213404_13_uvig_225655_4_uvig_225655_17_uvig_359760_4_uvig_359760_18_uvig_379702_1_uvig_379702_13_uvig_512665_1_uvig_578696_11_uvig_578696_25']_3of3\",\n",
       " 'dolphyn_5907119744549858192': \"dolphyn_['REP_uvig_80910_3_ALL_uvig_80910_3_uvig_80910_15_uvig_160801_14_uvig_213404_3_uvig_213404_15_uvig_225655_6_uvig_225655_19_uvig_359760_6_uvig_359760_20_uvig_379702_3_uvig_379702_15_uvig_512665_3_uvig_512665_9_uvig_578696_9_uvig_578696_23']_1of3\",\n",
       " 'dolphyn_629974400136740986': \"dolphyn_['REP_uvig_80910_3_ALL_uvig_80910_3_uvig_80910_15_uvig_160801_14_uvig_213404_3_uvig_213404_15_uvig_225655_6_uvig_225655_19_uvig_359760_6_uvig_359760_20_uvig_379702_3_uvig_379702_15_uvig_512665_3_uvig_512665_9_uvig_578696_9_uvig_578696_23']_2of3\",\n",
       " 'dolphyn_200446406372217622': \"dolphyn_['REP_uvig_80910_3_ALL_uvig_80910_3_uvig_80910_15_uvig_160801_14_uvig_213404_3_uvig_213404_15_uvig_225655_6_uvig_225655_19_uvig_359760_6_uvig_359760_20_uvig_379702_3_uvig_379702_15_uvig_512665_3_uvig_512665_9_uvig_578696_9_uvig_578696_23']_3of3\"}"
      ]
     },
     "execution_count": 10,
     "metadata": {},
     "output_type": "execute_result"
    }
   ],
   "source": [
    "protein_hash"
   ]
  },
  {
   "cell_type": "code",
   "execution_count": 11,
   "id": "cb89e7e8",
   "metadata": {},
   "outputs": [],
   "source": [
    "revtrans_command = \"pepsyn revtrans \"+ prot_file + \" \" + dna_file_noadap\n",
    "stream = os.popen(revtrans_command)"
   ]
  },
  {
   "cell_type": "code",
   "execution_count": 12,
   "id": "78ab3878-9bad-4ea0-b3de-c87368e90e28",
   "metadata": {},
   "outputs": [],
   "source": [
    "# TO BE ADDED\n",
    "# remove restricted sequences here"
   ]
  },
  {
   "cell_type": "code",
   "execution_count": 13,
   "id": "c6604dcf",
   "metadata": {},
   "outputs": [],
   "source": [
    "# Add adapter sequences\n",
    "with open(dna_file_noadap, \"r\") as na:\n",
    "    with open(dna_file, \"w\") as wa:\n",
    "        for line in na:\n",
    "            l = line.strip()\n",
    "            if not line.startswith(\">\"):\n",
    "                l = five_prime_adapter + l + three_prime_adapter\n",
    "            wa.write(l+\"\\n\")"
   ]
  }
 ],
 "metadata": {
  "kernelspec": {
   "display_name": "Python 3 (ipykernel)",
   "language": "python",
   "name": "python3"
  },
  "language_info": {
   "codemirror_mode": {
    "name": "ipython",
    "version": 3
   },
   "file_extension": ".py",
   "mimetype": "text/x-python",
   "name": "python",
   "nbconvert_exporter": "python",
   "pygments_lexer": "ipython3",
   "version": "3.11.13"
  }
 },
 "nbformat": 4,
 "nbformat_minor": 5
}
