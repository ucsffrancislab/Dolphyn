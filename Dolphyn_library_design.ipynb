{
 "cells": [
  {
   "cell_type": "code",
   "execution_count": 9,
   "id": "4c5249fe-f974-46f8-9541-066e5bab004f",
   "metadata": {},
   "outputs": [],
   "source": [
    "import os, sys\n",
    "sys.path.insert(0, os.path.abspath('dolphyn'))\n",
    "import dolphyn as D"
   ]
  },
  {
   "cell_type": "code",
   "execution_count": 10,
   "id": "886fe131",
   "metadata": {},
   "outputs": [],
   "source": [
    "protein_seq_file = \"./data/PhageScan_pilot_proteinClusterReps.faa\" #your protein collection input, our example\n",
    "\n",
    "prot_file = \"dolphyn_peptides.faa\"\n",
    "dna_file_noadap = \"dolphyn_oligos_noadap.fasta\"\n",
    "dna_file = \"dolphyn_oligos.fasta\"\n",
    "\n",
    "five_prime_adapter = \"AGGAATTCCGCTGCGT\"\n",
    "three_prime_adapter = \"ATGGTCACAGCTGTGC\""
   ]
  },
  {
   "cell_type": "code",
   "execution_count": 11,
   "id": "40189f70",
   "metadata": {
    "tags": []
   },
   "outputs": [
    {
     "name": "stdout",
     "output_type": "stream",
     "text": [
      "1s elapsed\n"
     ]
    }
   ],
   "source": [
    "# TAKES TIME\n",
    "# find the epitopes\n",
    "\n",
    "import time\n",
    "\n",
    "start_time = time.time()\n",
    "# set testrun = 0 to run all!\n",
    "ge = D.findEpitopes(testrun = 2, protein_seq_file = protein_seq_file, epitile_size=15, epitope_probability_cutoff = 0.5)\n",
    "\n",
    "end_time = time.time()\n",
    "\n",
    "print(str(int(end_time-start_time)) + \"s elapsed\")"
   ]
  },
  {
   "cell_type": "code",
   "execution_count": 12,
   "id": "b8b7fe94-d28f-4332-a8f4-2606c7e4f37e",
   "metadata": {},
   "outputs": [],
   "source": [
    "# if you want to store the predicted epitopes:\n",
    "\n",
    "#D.saveGlobalEpitopes(ge, \"epi_probas.json\")\n",
    "#ge = D.readGlobalEpitopes(\"epi_probas.json\")"
   ]
  },
  {
   "cell_type": "code",
   "execution_count": 13,
   "id": "9affd0f2",
   "metadata": {},
   "outputs": [
    {
     "name": "stdout",
     "output_type": "stream",
     "text": [
      "total number of dolphyn tiles =  3\n",
      "number of unused epitopes: 2\n"
     ]
    }
   ],
   "source": [
    "dolphynTiles, _ = D.peptideStitching(no_epis_per_tile = 3, linker_seq = \"GGGGS\" , global_epitopes = ge, return_unused_epis = False)\n",
    "protein_hash = D.writeDolphynPeptidesToFAA(dolphynTiles, prot_file, hash_protein_names = True)"
   ]
  },
  {
   "cell_type": "code",
   "execution_count": 14,
   "id": "cb89e7e8",
   "metadata": {},
   "outputs": [
    {
     "name": "stderr",
     "output_type": "stream",
     "text": [
      "revtrans: 3seq [00:00, 150.50seq/s]\n"
     ]
    }
   ],
   "source": [
    "revtrans_command = \"pepsyn revtrans \"+ prot_file + \" \" + dna_file_noadap\n",
    "stream = os.popen(revtrans_command)"
   ]
  },
  {
   "cell_type": "code",
   "execution_count": 15,
   "id": "78ab3878-9bad-4ea0-b3de-c87368e90e28",
   "metadata": {},
   "outputs": [],
   "source": [
    "# TO BE ADDED\n",
    "# remove restricted sequences here"
   ]
  },
  {
   "cell_type": "code",
   "execution_count": 16,
   "id": "c6604dcf",
   "metadata": {},
   "outputs": [],
   "source": [
    "# Add adapter sequences\n",
    "with open(dna_file_noadap, \"r\") as na:\n",
    "    with open(dna_file, \"w\") as wa:\n",
    "        for line in na:\n",
    "            l = line.strip()\n",
    "            if not line.startswith(\">\"):\n",
    "                l = five_prime_adapter + l + three_prime_adapter\n",
    "            wa.write(l+\"\\n\")"
   ]
  },
  {
   "cell_type": "code",
   "execution_count": null,
   "id": "9077e799-2b06-47b6-8461-7fcd5581b52c",
   "metadata": {},
   "outputs": [],
   "source": []
  }
 ],
 "metadata": {
  "kernelspec": {
   "display_name": "Python 3 (ipykernel)",
   "language": "python",
   "name": "python3"
  },
  "language_info": {
   "codemirror_mode": {
    "name": "ipython",
    "version": 3
   },
   "file_extension": ".py",
   "mimetype": "text/x-python",
   "name": "python",
   "nbconvert_exporter": "python",
   "pygments_lexer": "ipython3",
   "version": "3.13.4"
  }
 },
 "nbformat": 4,
 "nbformat_minor": 5
}
